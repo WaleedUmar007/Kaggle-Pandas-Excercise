{
    "cells": [
        {
            "cell_type": "code",
            "execution_count": 1,
            "source": [
                "import pandas as pd\r\n",
                "import numpy as np"
            ],
            "outputs": [],
            "metadata": {}
        },
        {
            "cell_type": "code",
            "execution_count": 2,
            "source": [
                "#Question 1: Make a dataframe and assign the values to variable name fruits\r\n",
                "\r\n",
                "\r\n",
                "\r\n",
                "fruits =  pd.DataFrame({'Apple':[30],'Bananas': [21]})\r\n",
                "print(fruits)"
            ],
            "outputs": [
                {
                    "output_type": "stream",
                    "name": "stdout",
                    "text": [
                        "   Apple  Bananas\n",
                        "0     30       21\n"
                    ]
                }
            ],
            "metadata": {}
        },
        {
            "cell_type": "code",
            "execution_count": 6,
            "source": [
                "#Question 2\r\n",
                "\r\n",
                "fruitsales = pd.DataFrame({'Apples':[35,41], 'Bananas':[21,34]},index = ['2017 Sales','2018 Sales'])\r\n",
                "print(fruitsales)"
            ],
            "outputs": [
                {
                    "output_type": "stream",
                    "name": "stdout",
                    "text": [
                        "            Apples  Bananas\n",
                        "2017 Sales      35       21\n",
                        "2018 Sales      41       34\n"
                    ]
                }
            ],
            "metadata": {}
        },
        {
            "cell_type": "code",
            "execution_count": 8,
            "source": [
                "#Question 3\r\n",
                "\r\n",
                "ingredients = pd.Series(['4 cups','1 cup','2 large','1 can'], index=['Flour','Milk','Eggs','Spam'], name='Dinner')\r\n",
                "print(ingredients)"
            ],
            "outputs": [
                {
                    "output_type": "stream",
                    "name": "stdout",
                    "text": [
                        "Flour     4 cups\n",
                        "Milk       1 cup\n",
                        "Eggs     2 large\n",
                        "Spam       1 can\n",
                        "Name: Dinner, dtype: object\n"
                    ]
                }
            ],
            "metadata": {}
        },
        {
            "cell_type": "code",
            "execution_count": 11,
            "source": [
                "#Qustion 5: Convert the following animal dataframe and convert it into a csv file\r\n",
                "\r\n",
                "animals = pd.DataFrame({'Cows': [12, 20], 'Goats': [22, 19]}, index=['Year 1', 'Year 2'])\r\n",
                "animals.to_csv('C:/Users/Dell//Desktop/file_name.csv')\r\n",
                "print (animals)"
            ],
            "outputs": [
                {
                    "output_type": "stream",
                    "name": "stdout",
                    "text": [
                        "        Cows  Goats\n",
                        "Year 1    12     22\n",
                        "Year 2    20     19\n"
                    ]
                }
            ],
            "metadata": {}
        },
        {
            "cell_type": "code",
            "execution_count": 3,
            "source": [
                "#Sort data alphabetically in Data Frame\r\n",
                "\r\n",
                "fruitlists = pd.DataFrame ({'Name': ['Bananas','Apples','Apricot','Peach']})\r\n",
                "print(fruitlists.sort_values('Name'))"
            ],
            "outputs": [
                {
                    "output_type": "stream",
                    "name": "stdout",
                    "text": [
                        "      Name\n",
                        "1   Apples\n",
                        "2  Apricot\n",
                        "0  Bananas\n",
                        "3    Peach\n"
                    ]
                }
            ],
            "metadata": {}
        }
    ],
    "metadata": {
        "orig_nbformat": 4,
        "language_info": {
            "name": "python"
        }
    },
    "nbformat": 4,
    "nbformat_minor": 2
}